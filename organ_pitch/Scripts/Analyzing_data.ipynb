{
 "cells": [
  {
   "cell_type": "markdown",
   "metadata": {},
   "source": [
    "# Choir Division RH and temp data\n"
   ]
  },
  {
   "cell_type": "markdown",
   "metadata": {},
   "source": [
    "Here I will upload one area (the choir division) of sampling from St. Paul's chapel pipe organ."
   ]
  },
  {
   "cell_type": "code",
   "execution_count": 133,
   "metadata": {
    "collapsed": true
   },
   "outputs": [],
   "source": [
    "# a. I call in the necessary libraries to complete my functions later on\n",
    "import pandas as pd\n",
    "import numpy as np\n",
    "\n",
    "# cell magic--shows plots in notebook instead of another window\n",
    "%matplotlib inline \n",
    "\n",
    "from pandas import set_option\n",
    "set_option('display.max_rows', 5) #iPython notebook will display a maximum of 10 rows of the dataset\n"
   ]
  },
  {
   "cell_type": "markdown",
   "metadata": {},
   "source": [
    "  "
   ]
  },
  {
   "cell_type": "code",
   "execution_count": 145,
   "metadata": {
    "collapsed": false
   },
   "outputs": [],
   "source": [
    "# I load the dataset, which only worked when I provided the absolute path. This notebook is loced in \"assignment_5\" directory located on the Desktop, the data file is located on the Desktop.\n",
    "\n",
    "filename = '/Users/shubbymartz-oberlander/Desktop/Choir_Division_0.csv'\n"
   ]
  },
  {
   "cell_type": "code",
   "execution_count": 80,
   "metadata": {
    "collapsed": false
   },
   "outputs": [
    {
     "data": {
      "text/html": [
       "<div>\n",
       "<table border=\"1\" class=\"dataframe\">\n",
       "  <thead>\n",
       "    <tr style=\"text-align: right;\">\n",
       "      <th></th>\n",
       "      <th></th>\n",
       "      <th></th>\n",
       "      <th></th>\n",
       "      <th></th>\n",
       "      <th></th>\n",
       "      <th>﻿\"Plot Title: Choir Division\"</th>\n",
       "    </tr>\n",
       "  </thead>\n",
       "  <tbody>\n",
       "    <tr>\n",
       "      <th>#</th>\n",
       "      <th>Date Time, GMT-05:00</th>\n",
       "      <th>Temp, °C (LGR S/N: 1041238, SEN S/N: 1041238)</th>\n",
       "      <th>RH, % (LGR S/N: 1041238, SEN S/N: 1041238)</th>\n",
       "      <th>Host Connected (LGR S/N: 1041238)</th>\n",
       "      <th>Stopped (LGR S/N: 1041238)</th>\n",
       "      <td>End Of File (LGR S/N: 1041238)</td>\n",
       "    </tr>\n",
       "    <tr>\n",
       "      <th>1</th>\n",
       "      <th>02/18/10 02:00:00  PM</th>\n",
       "      <th>20.138</th>\n",
       "      <th>29.03</th>\n",
       "      <th>NaN</th>\n",
       "      <th>NaN</th>\n",
       "      <td>NaN</td>\n",
       "    </tr>\n",
       "    <tr>\n",
       "      <th>...</th>\n",
       "      <th>...</th>\n",
       "      <th>...</th>\n",
       "      <th>...</th>\n",
       "      <th>...</th>\n",
       "      <th>...</th>\n",
       "      <td>...</td>\n",
       "    </tr>\n",
       "    <tr>\n",
       "      <th>579</th>\n",
       "      <th>03/02/10 02:57:22  PM</th>\n",
       "      <th>NaN</th>\n",
       "      <th>NaN</th>\n",
       "      <th>Logged</th>\n",
       "      <th>NaN</th>\n",
       "      <td>NaN</td>\n",
       "    </tr>\n",
       "    <tr>\n",
       "      <th>580</th>\n",
       "      <th>03/02/10 02:57:45  PM</th>\n",
       "      <th>NaN</th>\n",
       "      <th>NaN</th>\n",
       "      <th>NaN</th>\n",
       "      <th>Logged</th>\n",
       "      <td>Logged</td>\n",
       "    </tr>\n",
       "  </tbody>\n",
       "</table>\n",
       "<p>581 rows × 1 columns</p>\n",
       "</div>"
      ],
      "text/plain": [
       "                                                                                                                                                                                  ﻿\"Plot Title: Choir Division\"\n",
       "#   Date Time, GMT-05:00  Temp, °C (LGR S/N: 1041238, SEN S/N: 1041238) RH, % (LGR S/N: 1041238, SEN S/N: 1041238) Host Connected (LGR S/N: 1041238) Stopped (LGR S/N: 1041238)  End Of File (LGR S/N: 1041238)\n",
       "1   02/18/10 02:00:00  PM 20.138                                        29.03                                      NaN                               NaN                                                    NaN\n",
       "...                                                                                                                                                                                                         ...\n",
       "579 03/02/10 02:57:22  PM NaN                                           NaN                                        Logged                            NaN                                                    NaN\n",
       "580 03/02/10 02:57:45  PM NaN                                           NaN                                        NaN                               Logged                                              Logged\n",
       "\n",
       "[581 rows x 1 columns]"
      ]
     },
     "execution_count": 80,
     "metadata": {},
     "output_type": "execute_result"
    }
   ],
   "source": [
    "#I bring in the table called filename= Choir_Division_0 with commas separating the data points\n",
    "\n",
    "choir_division = pd.read_table(filename, sep = ',')\n",
    "choir_division"
   ]
  },
  {
   "cell_type": "code",
   "execution_count": 81,
   "metadata": {
    "collapsed": false
   },
   "outputs": [
    {
     "data": {
      "text/plain": [
       "(581, 1)"
      ]
     },
     "execution_count": 81,
     "metadata": {},
     "output_type": "execute_result"
    }
   ],
   "source": [
    "# I look at shape to see why Python says there are \"581 rows x 1 columns\"\n",
    "#The \"shape\" method says there are 581 rows of data and 1 column. However, I can see 6 columns.\n",
    "\n",
    "choir_division.shape"
   ]
  },
  {
   "cell_type": "markdown",
   "metadata": {},
   "source": [
    "__b.__ I use Pandas library to import my data because it includes numbers and words (--or strings of characters--for the column names); because I will eventually be compiling multiple datasets into larger ones for computational comparrison across time; and because my data is not cleanly organized currently, and Pandas will allow me to format into a more rectangular set with reorganized columns and indices.\n",
    "\n",
    "I first used HOBOware to convert my .hobo data file into a .csv.\n",
    "\n",
    "In this iPython notebook I used the commands: \n",
    ">filename = ' [the name of the file of data stored on my computer']\n",
    "\n",
    "Here I had to provide the absolute path to the data file on my computer because Python said \"file does not exist\" when I just entred 'Desktop/Choir_Division_0.csv'.\n",
    "\n",
    "so that I can select the desired file and be able to refer to the file later on with a simpler name;\n",
    ">[name of dataset] = pandas library.read the file_it's a table(the file name I'm importing, the type of separators between data points)\n",
    "\n",
    "1. I name the dataset choir_division\n",
    "\n",
    "2. I want to bring in a 'table' of data\n",
    "\n",
    "3. The separator is a comma becasue I saved the file as a .csv (comma separated value(s))"
   ]
  },
  {
   "cell_type": "markdown",
   "metadata": {},
   "source": [
    "# C. Function 1: Rename Columns"
   ]
  },
  {
   "cell_type": "code",
   "execution_count": 119,
   "metadata": {
    "collapsed": false
   },
   "outputs": [
    {
     "data": {
      "text/html": [
       "<div>\n",
       "<table border=\"1\" class=\"dataframe\">\n",
       "  <thead>\n",
       "    <tr style=\"text-align: right;\">\n",
       "      <th></th>\n",
       "      <th></th>\n",
       "      <th></th>\n",
       "      <th></th>\n",
       "      <th></th>\n",
       "      <th></th>\n",
       "      <th>Temp</th>\n",
       "    </tr>\n",
       "  </thead>\n",
       "  <tbody>\n",
       "    <tr>\n",
       "      <th>#</th>\n",
       "      <th>Date Time, GMT-05:00</th>\n",
       "      <th>Temp, °C (LGR S/N: 1041238, SEN S/N: 1041238)</th>\n",
       "      <th>RH, % (LGR S/N: 1041238, SEN S/N: 1041238)</th>\n",
       "      <th>Host Connected (LGR S/N: 1041238)</th>\n",
       "      <th>Stopped (LGR S/N: 1041238)</th>\n",
       "      <td>End Of File (LGR S/N: 1041238)</td>\n",
       "    </tr>\n",
       "    <tr>\n",
       "      <th>1</th>\n",
       "      <th>02/18/10 02:00:00  PM</th>\n",
       "      <th>20.138</th>\n",
       "      <th>29.03</th>\n",
       "      <th>NaN</th>\n",
       "      <th>NaN</th>\n",
       "      <td>NaN</td>\n",
       "    </tr>\n",
       "    <tr>\n",
       "      <th>...</th>\n",
       "      <th>...</th>\n",
       "      <th>...</th>\n",
       "      <th>...</th>\n",
       "      <th>...</th>\n",
       "      <th>...</th>\n",
       "      <td>...</td>\n",
       "    </tr>\n",
       "    <tr>\n",
       "      <th>579</th>\n",
       "      <th>03/02/10 02:57:22  PM</th>\n",
       "      <th>NaN</th>\n",
       "      <th>NaN</th>\n",
       "      <th>Logged</th>\n",
       "      <th>NaN</th>\n",
       "      <td>NaN</td>\n",
       "    </tr>\n",
       "    <tr>\n",
       "      <th>580</th>\n",
       "      <th>03/02/10 02:57:45  PM</th>\n",
       "      <th>NaN</th>\n",
       "      <th>NaN</th>\n",
       "      <th>NaN</th>\n",
       "      <th>Logged</th>\n",
       "      <td>Logged</td>\n",
       "    </tr>\n",
       "  </tbody>\n",
       "</table>\n",
       "<p>581 rows × 1 columns</p>\n",
       "</div>"
      ],
      "text/plain": [
       "                                                                                                                                                                                                           Temp\n",
       "#   Date Time, GMT-05:00  Temp, °C (LGR S/N: 1041238, SEN S/N: 1041238) RH, % (LGR S/N: 1041238, SEN S/N: 1041238) Host Connected (LGR S/N: 1041238) Stopped (LGR S/N: 1041238)  End Of File (LGR S/N: 1041238)\n",
       "1   02/18/10 02:00:00  PM 20.138                                        29.03                                      NaN                               NaN                                                    NaN\n",
       "...                                                                                                                                                                                                         ...\n",
       "579 03/02/10 02:57:22  PM NaN                                           NaN                                        Logged                            NaN                                                    NaN\n",
       "580 03/02/10 02:57:45  PM NaN                                           NaN                                        NaN                               Logged                                              Logged\n",
       "\n",
       "[581 rows x 1 columns]"
      ]
     },
     "execution_count": 119,
     "metadata": {},
     "output_type": "execute_result"
    }
   ],
   "source": [
    "# I want to rename the columns so they read clearly without the coded stamps that HOBOwear added.\n",
    "\n",
    "choir_division.columns = ['Temp']\n",
    "choir_division\n"
   ]
  },
  {
   "cell_type": "markdown",
   "metadata": {},
   "source": [
    "I was successful in renaming one column, the last one to \"Temp\". However, when I try to rename all columns, I am told there are too many titles for columns because Python thinks I only have 1 column. This confirms my earlier suspicion that Python doesn't recognize the Temp, RH, and other columns as array axes. Additionally, Python appended the new title I gave it to the top of replacing the old one, which makes me think it doesn't recognize the top cell of the last column as a title."
   ]
  },
  {
   "cell_type": "code",
   "execution_count": 147,
   "metadata": {
    "collapsed": false
   },
   "outputs": [
    {
     "data": {
      "text/plain": [
       "pandas.core.index.MultiIndex"
      ]
     },
     "execution_count": 147,
     "metadata": {},
     "output_type": "execute_result"
    }
   ],
   "source": [
    "#Maybe it doesn't process the columns because of this: \n",
    "\n",
    "# When I ask what type of index is used, I'm told there are multiple types of dataframe indices, which could mean there's confusion about which cells are titles/labels and which are data points\n",
    "type(choir_division.index)"
   ]
  },
  {
   "cell_type": "code",
   "execution_count": 153,
   "metadata": {
    "collapsed": false
   },
   "outputs": [
    {
     "data": {
      "text/plain": [
       "pandas.core.frame.DataFrame"
      ]
     },
     "execution_count": 153,
     "metadata": {},
     "output_type": "execute_result"
    }
   ],
   "source": [
    "#I check the type of data file I have here. It says it's uploaded in Pandas, and is a frame of data (as opposed to a series)\n",
    "type(choir_division) "
   ]
  },
  {
   "cell_type": "code",
   "execution_count": 154,
   "metadata": {
    "collapsed": false
   },
   "outputs": [
    {
     "data": {
      "text/plain": [
       "dtype('O')"
      ]
     },
     "execution_count": 154,
     "metadata": {},
     "output_type": "execute_result"
    }
   ],
   "source": [
    "# This tells me the type of data of the index. It appears to be a string item \"O\" [oh]\n",
    "choir_division.index.dtype "
   ]
  },
  {
   "cell_type": "code",
   "execution_count": 159,
   "metadata": {
    "collapsed": false
   },
   "outputs": [
    {
     "data": {
      "text/plain": [
       "'int32'"
      ]
     },
     "execution_count": 159,
     "metadata": {},
     "output_type": "execute_result"
    }
   ],
   "source": [
    "#This function tells me the name of the data type that Numpy uses. This says I have a 32-bit integer, and \"Effective Communication in the Physical Sciences\" tells me it is interchangeable with C and C++.\n",
    "\n",
    "choir_division=np.dtype('>i4')\n",
    "choir_division.name"
   ]
  },
  {
   "cell_type": "markdown",
   "metadata": {},
   "source": []
  },
  {
   "cell_type": "markdown",
   "metadata": {},
   "source": [
    "#Function 2: Calculating temp in Kelvin from temp in C"
   ]
  },
  {
   "cell_type": "code",
   "execution_count": 137,
   "metadata": {
    "collapsed": false
   },
   "outputs": [
    {
     "data": {
      "text/plain": [
       "#    Date Time, GMT-05:00   Temp, °C (LGR S/N: 1041238, SEN S/N: 1041238)  RH, % (LGR S/N: 1041238, SEN S/N: 1041238)  Host Connected (LGR S/N: 1041238)  Stopped (LGR S/N: 1041238)    End Of File (LGR S/N: 1041238)\n",
       "1    02/18/10 02:00:00  PM  20.138                                         29.03                                       NaN                                NaN                                                      NaN\n",
       "                                                                                                                                                                                                     ...              \n",
       "579  03/02/10 02:57:22  PM  NaN                                            NaN                                         Logged                             NaN                                                      NaN\n",
       "580  03/02/10 02:57:45  PM  NaN                                            NaN                                         NaN                                Logged                                                Logged\n",
       "Name: Temp, dtype: object"
      ]
     },
     "execution_count": 137,
     "metadata": {},
     "output_type": "execute_result"
    }
   ],
   "source": [
    "# calculating temperature in Kelvin from the data by cross-operations of columns and making a new column\n",
    "#First, I'll grab, the only column I could name, 'Temp'.\n",
    "\n",
    "choir_division['Temp']\n"
   ]
  },
  {
   "cell_type": "code",
   "execution_count": 152,
   "metadata": {
    "collapsed": false
   },
   "outputs": [
    {
     "ename": "SyntaxError",
     "evalue": "can't assign to function call (<ipython-input-152-530c474ab745>, line 9)",
     "output_type": "error",
     "traceback": [
      "\u001b[0;36m  File \u001b[0;32m\"<ipython-input-152-530c474ab745>\"\u001b[0;36m, line \u001b[0;32m9\u001b[0m\n\u001b[0;31m    choir_division('temp_kelvin')=(choir_division('Temp')+(273.15))\u001b[0m\n\u001b[0m                                                                   ^\u001b[0m\n\u001b[0;31mSyntaxError\u001b[0m\u001b[0;31m:\u001b[0m can't assign to function call\n"
     ]
    }
   ],
   "source": [
    "# To change temp from K to C I can use the following function:\n",
    "\n",
    "def c2k (Temp):\n",
    "    Temp_Kelvin = Temp + 273.15\n",
    "    return Temp_Kelvin\n",
    "\n",
    "#And I can make a new column for Temp_Kelvin\n",
    "\n",
    "choir_division('temp_kelvin')=choir_division('Temp')+(273.15)\n"
   ]
  },
  {
   "cell_type": "markdown",
   "metadata": {},
   "source": [
    "I wanted to create a column of temp in Kelvin so I can more easily use my equation for calculating mols of water in the air (Cramer, 1992). I was unable to  calculate it because I couldn't assign the column label \"Temp\" to the column of data containing temperature figures. However, when I tried copying and pasting the column title that already exists above the temperature values, the same error is produced as seen below.\n"
   ]
  },
  {
   "cell_type": "code",
   "execution_count": 165,
   "metadata": {
    "collapsed": false
   },
   "outputs": [
    {
     "ename": "SyntaxError",
     "evalue": "can't assign to function call (<ipython-input-165-fc367a22e88f>, line 1)",
     "output_type": "error",
     "traceback": [
      "\u001b[0;36m  File \u001b[0;32m\"<ipython-input-165-fc367a22e88f>\"\u001b[0;36m, line \u001b[0;32m1\u001b[0m\n\u001b[0;31m    choir_division('temp_kelvin')=choir_division('Temp, °C (LGR S/N: 1041238, SEN S/N: 1041238)')+(273.15)\u001b[0m\n\u001b[0m                                                                                                          ^\u001b[0m\n\u001b[0;31mSyntaxError\u001b[0m\u001b[0;31m:\u001b[0m can't assign to function call\n"
     ]
    }
   ],
   "source": [
    "choir_division('temp_kelvin')=choir_division('Temp, °C (LGR S/N: 1041238, SEN S/N: 1041238)')+(273.15)"
   ]
  },
  {
   "cell_type": "markdown",
   "metadata": {},
   "source": [
    "# Function 3: Calculating mean of data for each hour of collection"
   ]
  },
  {
   "cell_type": "code",
   "execution_count": 163,
   "metadata": {
    "collapsed": false
   },
   "outputs": [
    {
     "ename": "AttributeError",
     "evalue": "'numpy.dtype' object has no attribute 'resample'",
     "output_type": "error",
     "traceback": [
      "\u001b[0;31m---------------------------------------------------------------------------\u001b[0m",
      "\u001b[0;31mAttributeError\u001b[0m                            Traceback (most recent call last)",
      "\u001b[0;32m<ipython-input-163-794d572a9bca>\u001b[0m in \u001b[0;36m<module>\u001b[0;34m()\u001b[0m\n\u001b[1;32m      3\u001b[0m \u001b[0;34m\u001b[0m\u001b[0m\n\u001b[1;32m      4\u001b[0m \u001b[0;34m\u001b[0m\u001b[0m\n\u001b[0;32m----> 5\u001b[0;31m \u001b[0mchoir_resampled\u001b[0m \u001b[0;34m=\u001b[0m \u001b[0mchoir_division\u001b[0m\u001b[0;34m.\u001b[0m\u001b[0mresample\u001b[0m\u001b[0;34m(\u001b[0m\u001b[0;34m'H'\u001b[0m\u001b[0;34m,\u001b[0m \u001b[0mhow\u001b[0m\u001b[0;34m=\u001b[0m\u001b[0;34m(\u001b[0m\u001b[0;34m'median'\u001b[0m\u001b[0;34m)\u001b[0m\u001b[0;34m)\u001b[0m\u001b[0;34m\u001b[0m\u001b[0m\n\u001b[0m",
      "\u001b[0;31mAttributeError\u001b[0m: 'numpy.dtype' object has no attribute 'resample'"
     ]
    }
   ],
   "source": [
    "#I import the library of datetime for ease of categorizing data by time stamps\n",
    "from datetime import datetime as dt\n",
    "\n",
    "\n",
    "choir_resampled = choir_division.resample('H', how=('median'))\n"
   ]
  },
  {
   "cell_type": "markdown",
   "metadata": {},
   "source": [
    "I think: here I ran into the problem that my data type doesn't register as a number that can be resampled."
   ]
  },
  {
   "cell_type": "markdown",
   "metadata": {},
   "source": [
    "# Thoughts on overall troubles\n"
   ]
  },
  {
   "cell_type": "markdown",
   "metadata": {},
   "source": [
    "I think there may be problems from the start to do with dataframe formatting, because Python does not seem to recognize most of the columns as data. I think this because there are \"multiple indices\" and because I was unable to label or rename columns. And then of course I was also unable to cross-compute columns later on."
   ]
  },
  {
   "cell_type": "code",
   "execution_count": null,
   "metadata": {
    "collapsed": false
   },
   "outputs": [],
   "source": []
  },
  {
   "cell_type": "code",
   "execution_count": null,
   "metadata": {
    "collapsed": false
   },
   "outputs": [],
   "source": []
  },
  {
   "cell_type": "code",
   "execution_count": null,
   "metadata": {
    "collapsed": true
   },
   "outputs": [],
   "source": []
  },
  {
   "cell_type": "code",
   "execution_count": null,
   "metadata": {
    "collapsed": false
   },
   "outputs": [],
   "source": []
  },
  {
   "cell_type": "code",
   "execution_count": null,
   "metadata": {
    "collapsed": false
   },
   "outputs": [],
   "source": []
  },
  {
   "cell_type": "code",
   "execution_count": null,
   "metadata": {
    "collapsed": false
   },
   "outputs": [],
   "source": [
    "\n"
   ]
  },
  {
   "cell_type": "code",
   "execution_count": null,
   "metadata": {
    "collapsed": false
   },
   "outputs": [],
   "source": []
  },
  {
   "cell_type": "code",
   "execution_count": null,
   "metadata": {
    "collapsed": false
   },
   "outputs": [],
   "source": [
    "\n"
   ]
  },
  {
   "cell_type": "code",
   "execution_count": null,
   "metadata": {
    "collapsed": false
   },
   "outputs": [],
   "source": []
  },
  {
   "cell_type": "code",
   "execution_count": null,
   "metadata": {
    "collapsed": false
   },
   "outputs": [],
   "source": []
  },
  {
   "cell_type": "code",
   "execution_count": null,
   "metadata": {
    "collapsed": true
   },
   "outputs": [],
   "source": []
  }
 ],
 "metadata": {
  "kernelspec": {
   "display_name": "Python 3",
   "language": "python",
   "name": "python3"
  },
  "language_info": {
   "codemirror_mode": {
    "name": "ipython",
    "version": 3
   },
   "file_extension": ".py",
   "mimetype": "text/x-python",
   "name": "python",
   "nbconvert_exporter": "python",
   "pygments_lexer": "ipython3",
   "version": "3.4.3"
  }
 },
 "nbformat": 4,
 "nbformat_minor": 0
}
