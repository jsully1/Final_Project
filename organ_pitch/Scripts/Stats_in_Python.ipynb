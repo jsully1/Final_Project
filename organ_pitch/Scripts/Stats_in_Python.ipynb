{
 "cells": [
  {
   "cell_type": "markdown",
   "metadata": {},
   "source": [
    "__What I want to do in this assignment with stats:__\n",
    "\n",
    "This dataset looks at change in Temp, RH, and CO2 as the pipe organ's chapel is filling with an audience leading up to when the organ is played. Since I want to look for relationship between these two dependant variables, I will use either a parametric or nonparametric correlation analysis stats test."
   ]
  },
  {
   "cell_type": "code",
   "execution_count": 100,
   "metadata": {
    "collapsed": true
   },
   "outputs": [],
   "source": [
    "import pandas as pd\n",
    "import matplotlib.pyplot as plt\n",
    "import numpy as np\n",
    "import scipy.stats as sc\n",
    "\n",
    "%matplotlib inline\n",
    "\n",
    "import statsmodels.api as sm\n",
    "\n",
    "# irst, I have converted my data from .hobo to .csv with HOBOware software"
   ]
  },
  {
   "cell_type": "code",
   "execution_count": 101,
   "metadata": {
    "collapsed": false
   },
   "outputs": [
    {
     "data": {
      "text/html": [
       "<div>\n",
       "<table border=\"1\" class=\"dataframe\">\n",
       "  <thead>\n",
       "    <tr style=\"text-align: right;\">\n",
       "      <th></th>\n",
       "      <th>#</th>\n",
       "      <th>Date Time, GMT-04:00</th>\n",
       "      <th>Temp</th>\n",
       "      <th>RH</th>\n",
       "      <th>CO2_1</th>\n",
       "      <th>CO2_2</th>\n",
       "    </tr>\n",
       "  </thead>\n",
       "  <tbody>\n",
       "    <tr>\n",
       "      <th>0</th>\n",
       "      <td>1</td>\n",
       "      <td>03/26/10 01:05:00  PM</td>\n",
       "      <td>22.489</td>\n",
       "      <td>31.028</td>\n",
       "      <td>475.0</td>\n",
       "      <td>428.6</td>\n",
       "    </tr>\n",
       "    <tr>\n",
       "      <th>1</th>\n",
       "      <td>2</td>\n",
       "      <td>03/26/10 01:06:00  PM</td>\n",
       "      <td>22.585</td>\n",
       "      <td>30.232</td>\n",
       "      <td>512.2</td>\n",
       "      <td>431.0</td>\n",
       "    </tr>\n",
       "    <tr>\n",
       "      <th>2</th>\n",
       "      <td>3</td>\n",
       "      <td>03/26/10 01:07:00  PM</td>\n",
       "      <td>22.513</td>\n",
       "      <td>29.689</td>\n",
       "      <td>550.1</td>\n",
       "      <td>431.0</td>\n",
       "    </tr>\n",
       "    <tr>\n",
       "      <th>3</th>\n",
       "      <td>4</td>\n",
       "      <td>03/26/10 01:08:00  PM</td>\n",
       "      <td>22.393</td>\n",
       "      <td>29.544</td>\n",
       "      <td>586.7</td>\n",
       "      <td>432.8</td>\n",
       "    </tr>\n",
       "    <tr>\n",
       "      <th>4</th>\n",
       "      <td>5</td>\n",
       "      <td>03/26/10 01:09:00  PM</td>\n",
       "      <td>22.274</td>\n",
       "      <td>29.400</td>\n",
       "      <td>622.1</td>\n",
       "      <td>431.0</td>\n",
       "    </tr>\n",
       "    <tr>\n",
       "      <th>5</th>\n",
       "      <td>6</td>\n",
       "      <td>03/26/10 01:10:00  PM</td>\n",
       "      <td>22.130</td>\n",
       "      <td>29.254</td>\n",
       "      <td>655.7</td>\n",
       "      <td>428.6</td>\n",
       "    </tr>\n",
       "  </tbody>\n",
       "</table>\n",
       "</div>"
      ],
      "text/plain": [
       "   #   Date Time, GMT-04:00    Temp     RH   CO2_1  CO2_2\n",
       "0  1  03/26/10 01:05:00  PM  22.489  31.028  475.0  428.6\n",
       "1  2  03/26/10 01:06:00  PM  22.585  30.232  512.2  431.0\n",
       "2  3  03/26/10 01:07:00  PM  22.513  29.689  550.1  431.0\n",
       "3  4  03/26/10 01:08:00  PM  22.393  29.544  586.7  432.8\n",
       "4  5  03/26/10 01:09:00  PM  22.274  29.400  622.1  431.0\n",
       "5  6  03/26/10 01:10:00  PM  22.130  29.254  655.7  428.6"
      ]
     },
     "execution_count": 101,
     "metadata": {},
     "output_type": "execute_result"
    }
   ],
   "source": [
    "#Upload the data into a Python datafrom from the .csv file I saved it int\n",
    "\n",
    "CO2_data = pd.read_table('CO2test1.csv', sep=',')\n",
    "CO2_data.head(n=6)#I look at the dataframe I've uploaded"
   ]
  },
  {
   "cell_type": "code",
   "execution_count": 112,
   "metadata": {
    "collapsed": false
   },
   "outputs": [
    {
     "data": {
      "text/plain": [
       "#                         int64\n",
       "Date Time, GMT-04:00     object\n",
       "Temp                    float64\n",
       "RH                      float64\n",
       "CO2_1                   float64\n",
       "CO2_2                   float64\n",
       "dtype: object"
      ]
     },
     "execution_count": 112,
     "metadata": {},
     "output_type": "execute_result"
    }
   ],
   "source": [
    "#Look at the type of data in each column. It is a float, which is an interger with a decimal\n",
    "CO2_data.dtypes"
   ]
  },
  {
   "cell_type": "code",
   "execution_count": 103,
   "metadata": {
    "collapsed": true
   },
   "outputs": [],
   "source": [
    "# Look at how CO2_2 and Temp change in relation to each other over time"
   ]
  },
  {
   "cell_type": "markdown",
   "metadata": {},
   "source": [
    "To find out what type of statistical test(s) I should use, I want to first know if this data is parametric, or has normal distribution. I want to see if Temp and CO2 have a significant correlary relationship, so I will create a new dataframe with those data. "
   ]
  },
  {
   "cell_type": "code",
   "execution_count": 104,
   "metadata": {
    "collapsed": false
   },
   "outputs": [
    {
     "data": {
      "text/html": [
       "<div>\n",
       "<table border=\"1\" class=\"dataframe\">\n",
       "  <thead>\n",
       "    <tr style=\"text-align: right;\">\n",
       "      <th></th>\n",
       "      <th>Temp</th>\n",
       "      <th>CO2_1</th>\n",
       "    </tr>\n",
       "  </thead>\n",
       "  <tbody>\n",
       "    <tr>\n",
       "      <th>0</th>\n",
       "      <td>22.489</td>\n",
       "      <td>475.0</td>\n",
       "    </tr>\n",
       "    <tr>\n",
       "      <th>1</th>\n",
       "      <td>22.585</td>\n",
       "      <td>512.2</td>\n",
       "    </tr>\n",
       "    <tr>\n",
       "      <th>2</th>\n",
       "      <td>22.513</td>\n",
       "      <td>550.1</td>\n",
       "    </tr>\n",
       "    <tr>\n",
       "      <th>3</th>\n",
       "      <td>22.393</td>\n",
       "      <td>586.7</td>\n",
       "    </tr>\n",
       "    <tr>\n",
       "      <th>4</th>\n",
       "      <td>22.274</td>\n",
       "      <td>622.1</td>\n",
       "    </tr>\n",
       "  </tbody>\n",
       "</table>\n",
       "</div>"
      ],
      "text/plain": [
       "     Temp  CO2_1\n",
       "0  22.489  475.0\n",
       "1  22.585  512.2\n",
       "2  22.513  550.1\n",
       "3  22.393  586.7\n",
       "4  22.274  622.1"
      ]
     },
     "execution_count": 104,
     "metadata": {},
     "output_type": "execute_result"
    }
   ],
   "source": [
    "# I create a dataframe with the data columns I want to test\n",
    "#CO2_compare = CO2_data[['Date Time, GMT-04:00', 'Temp', 'CO2_1']]\n",
    "\n",
    "CO2_compare = CO2_data[['Temp', 'CO2_1']]\n",
    "CO2_compare.head()"
   ]
  },
  {
   "cell_type": "code",
   "execution_count": 113,
   "metadata": {
    "collapsed": false
   },
   "outputs": [
    {
     "data": {
      "text/plain": [
       "<matplotlib.text.Text at 0x10b3c07f0>"
      ]
     },
     "execution_count": 113,
     "metadata": {},
     "output_type": "execute_result"
    },
    {
     "data": {
      "image/png": "[encoded data removed]",
      "text/plain": [
       "<matplotlib.figure.Figure at 0x10b3779e8>"
      ]
     },
     "metadata": {},
     "output_type": "display_data"
    }
   ],
   "source": [
    "# I will first look to see if the data for Temp and CO2 are normally distributes by using histograms\n",
    "\n",
    "#Temperature\n",
    "figure = CO2_compare.hist(column='Temp', bins=50, figsize=(4,4))\n",
    "\n",
    "plt.ylabel('Frequency')\n",
    "plt.xlabel('Temp (C)')\n",
    "\n",
    "plt.title('Temp Histogram')"
   ]
  },
  {
   "cell_type": "code",
   "execution_count": 115,
   "metadata": {
    "collapsed": false
   },
   "outputs": [
    {
     "data": {
      "text/plain": [
       "<matplotlib.text.Text at 0x10a952eb8>"
      ]
     },
     "execution_count": 115,
     "metadata": {},
     "output_type": "execute_result"
    },
    {
     "data": {
      "image/png": "[encoded data removed]",
      "text/plain": [
       "<matplotlib.figure.Figure at 0x10b720b70>"
      ]
     },
     "metadata": {},
     "output_type": "display_data"
    }
   ],
   "source": [
    "# Histogram of CO2\n",
    "CO2_compare.hist(column='CO2_1', bins=50, figsize=(4,4))\n",
    "\n",
    "plt.ylabel('Frequency')\n",
    "plt.xlabel('CO2 (ppm)')\n",
    "\n",
    "plt.title('CO2 Histogram')"
   ]
  },
  {
   "cell_type": "markdown",
   "metadata": {},
   "source": [
    "We can see that neither temperature or CO2 values follow normal distribution (a convex bell-curve) so looking at regression would not provide insight into the statistical significance of this data. \n",
    "\n",
    "If I wanted to be they are not normally distributed, I would also do a Shapiro Wilk test. Here I will skip to a __Spearman's test__ to look for correlation between Temp and CO2."
   ]
  },
  {
   "cell_type": "code",
   "execution_count": 128,
   "metadata": {
    "collapsed": false
   },
   "outputs": [
    {
     "data": {
      "text/plain": [
       "(-0.99916339739688431, 8.5231190084510961e-49)"
      ]
     },
     "execution_count": 128,
     "metadata": {},
     "output_type": "execute_result"
    }
   ],
   "source": [
    "# Spearman test of correlation between temperature and CO2 concentration\n",
    "\n",
    "Temp = CO2_compare['Temp']\n",
    "CO2 = CO2_compare['CO2_1']\n",
    "\n",
    "sc.spearmanr(Temp, CO2) "
   ]
  },
  {
   "cell_type": "markdown",
   "metadata": {},
   "source": [
    "The p value (second value presented) is << 0.05, so I can say that the correlation between temperature and CO2 concentration change is statistically significant. To check futher, I can graph them together to see if there is positive or negative correlation."
   ]
  },
  {
   "cell_type": "code",
   "execution_count": 127,
   "metadata": {
    "collapsed": false
   },
   "outputs": [
    {
     "data": {
      "text/plain": [
       "<matplotlib.text.Text at 0x10b1cbe80>"
      ]
     },
     "execution_count": 127,
     "metadata": {},
     "output_type": "execute_result"
    },
    {
     "data": {
      "image/png": "[encoded data removed]",
      "text/plain": [
       "<matplotlib.figure.Figure at 0x10bae74a8>"
      ]
     },
     "metadata": {},
     "output_type": "display_data"
    }
   ],
   "source": [
    "#correlated items will have slope, non will be flat \n",
    "\n",
    "plt.plot(Temp, CO2, linestyle=' ', marker='.') \n",
    "\n",
    "plt.ylabel('CO2 (ppm)')\n",
    "plt.xlabel('Temp (C)')"
   ]
  },
  {
   "cell_type": "markdown",
   "metadata": {},
   "source": [
    "This slope confirms there is high positive correlation between change in temperature and CO2 concentration in the church during the hour of measurements. It is positive because temp and CO2 have the same, negative slope. The presence of a slope shows there is parrallel change in both measured variables."
   ]
  },
  {
   "cell_type": "markdown",
   "metadata": {},
   "source": []
  },
  {
   "cell_type": "code",
   "execution_count": null,
   "metadata": {
    "collapsed": true
   },
   "outputs": [],
   "source": []
  }
 ],
 "metadata": {
  "kernelspec": {
   "display_name": "Python 3",
   "language": "python",
   "name": "python3"
  },
  "language_info": {
   "codemirror_mode": {
    "name": "ipython",
    "version": 3
   },
   "file_extension": ".py",
   "mimetype": "text/x-python",
   "name": "python",
   "nbconvert_exporter": "python",
   "pygments_lexer": "ipython3",
   "version": "3.4.3"
  }
 },
 "nbformat": 4,
 "nbformat_minor": 0
}
