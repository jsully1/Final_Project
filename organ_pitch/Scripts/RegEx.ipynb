{
 "cells": [
  {
   "cell_type": "markdown",
   "metadata": {
    "collapsed": true
   },
   "source": [
    "__Cleaning Data with Regular Expressions__\n",
    "\n",
    "Here I will clean the data point/column separators in some worm data. First I upload the data, then I decide what I want to change, then I make a pattern and test it on one line, then I make a loop to run the grabbing pattern throughout the entire data."
   ]
  },
  {
   "cell_type": "code",
   "execution_count": 37,
   "metadata": {
    "collapsed": false
   },
   "outputs": [
    {
     "name": "stdout",
     "output_type": "stream",
     "text": [
      "./data/20141118_131037/N2_4DayOld_4psi_CO2_a.00001.dat:15.028 0.00 1 234.9\n",
      "./data/20141118_131037/N2_4DayOld_4psi_CO2_a.00001.dat:15.069 1.00 1 234.9\n",
      "./data/20141118_131037/N2_4DayOld_4psi_CO2_a.00001.dat:15.109 2.00 1 234.9\n",
      "./data/20141118_131037/N2_4DayOld_4psi_CO2_a.00001.dat:15.148 3.00 1 234.9\n",
      "./data/20141118_131037/N2_4DayOld_4psi_CO2_a.00001.dat:15.186 4.00 1 234.9\n",
      "./data/20141118_131037/N2_4DayOld_4psi_CO2_a.00001.dat:15.229 5.00 1 234.9\n",
      "./data/20141118_131037/N2_4DayOld_4psi_CO2_a.00001.dat:15.270 6.00 1 234.9\n",
      "./data/20141118_131037/N2_4DayOld_4psi_CO2_a.00001.dat:15.310 7.00 1 234.9\n",
      "./data/20141118_131037/N2_4DayOld_4psi_CO2_a.00001.dat:15.350 8.00 1 234.9\n",
      "./data/20141118_131037/N2_4DayOld_4psi_CO2_a.00001.dat:15.387 9.00 1 234.9\n",
      "./data/20141118_133214/tim4182_4DayOld_4psi_CO2_b.00087.dat:249.616 5832.00 87 24.3\n",
      "./data/20141118_133214/tim4182_4DayOld_4psi_CO2_b.00087.dat:249.656 5833.00 87 24.3\n",
      "./data/20141118_133214/tim4182_4DayOld_4psi_CO2_b.00087.dat:249.697 5834.00 87 24.3\n",
      "./data/20141118_133214/tim4182_4DayOld_4psi_CO2_b.00087.dat:249.737 5835.00 87 24.3\n",
      "./data/20141118_133214/tim4182_4DayOld_4psi_CO2_b.00087.dat:249.776 5836.00 87 24.3\n",
      "./data/20141118_133214/tim4182_4DayOld_4psi_CO2_b.00087.dat:249.816 5837.00 87 24.3\n",
      "./data/20141118_133214/tim4182_4DayOld_4psi_CO2_b.00087.dat:249.857 5838.00 87 24.3\n",
      "./data/20141118_133214/tim4182_4DayOld_4psi_CO2_b.00087.dat:249.897 5839.00 87 24.3\n",
      "./data/20141118_133214/tim4182_4DayOld_4psi_CO2_b.00087.dat:249.938 5840.00 87 24.3\n",
      "./data/20141118_133214/tim4182_4DayOld_4psi_CO2_b.00087.dat:249.977 5841.00 87 24.3\n"
     ]
    }
   ],
   "source": [
    "#I import the regular expressions library \n",
    "import re\n",
    "\n",
    "#define lines as strings separated by line breaks from the data file 'tiffany_data.txt'\n",
    "#strip items (lines) apart from each other\n",
    "#split by line '\\n'\n",
    "\n",
    "lines = open('tiffany_data.txt', 'r').read().strip().split('\\n')\n",
    "\n",
    "  \n",
    "#Loop through each item (each line) in readings and show on screen\n",
    "for r in lines:\n",
    "    print(r)"
   ]
  },
  {
   "cell_type": "markdown",
   "metadata": {
    "collapsed": true
   },
   "source": [
    "We can see that we have CO2_a. and CO2_b and are either 1 or 87, respectively. All data was collected on the same day: 2014-11-18; with either \"N2\" or \"tim4182\" markers. The rest of the columns are very similar in format between a. and b. \n",
    "\n",
    "To make this data more easily computable, let's separate the items with spaces instead of slashes. let's relist the data with a column for the date/time, and last four columns. I will try to solve this by creating a loop that saves what I want and discards the rest.\n"
   ]
  },
  {
   "cell_type": "code",
   "execution_count": 38,
   "metadata": {
    "collapsed": false
   },
   "outputs": [
    {
     "name": "stdout",
     "output_type": "stream",
     "text": [
      "data 20141118 131037 N2 4DayOld 4psi CO2 a 00001 dat 15.028 0.00 1 234.9\n"
     ]
    }
   ],
   "source": [
    "#Grabbing matches\n",
    "#I first find a pattern for grabbing and test it on one line of data\n",
    "\n",
    "match = re.search('..([a-z]{4}).+([0-9]{8})_([0-9]{6})/([A-Za-z0-9]{2,7})_([0-9A-Za-z]{7})_([0-9a-z]{4})_([A-Z0-9]{3})_([a-z]{1}).([0-9]{5}).([a-z]{3}):(.+)', './data/20141118_131037/N2_4DayOld_4psi_CO2_a.00001.dat:15.028 0.00 1 234.9')\n",
    "\n",
    "print(match.group(1), match.group(2), match.group(3), match.group(4),match.group(5),match.group(6), match.group(7), match.group(8), match.group(9), match.group(10), match.group(11))\n",
    "\n",
    "#Selective grabbing works. Now I can use this pattern in a loop function to go through every data line"
   ]
  },
  {
   "cell_type": "code",
   "execution_count": 39,
   "metadata": {
    "collapsed": false
   },
   "outputs": [],
   "source": [
    "#For the entire dataset now:\n",
    "#Make a loop function to grab the same pattern from every line in the entire dataset\n",
    "\n",
    "def clean_data(tiffany):\n",
    "    for lines in tiffany:\n",
    "        match = re.search('..([a-z]{4}).+([0-9]{8})_([0-9]{6})/([A-Za-z0-9]{2,7})_([0-9A-Za-z]{7})_([0-9a-z]{4})_([A-Z0-9]{3})_([a-z]{1}).([0-9]{5}).([a-z]{3}):(.+)', lines)\n",
    "        print(match.group(1), match.group(2), match.group(3), match.group(4),match.group(5),match.group(6), match.group(7), match.group(8), match.group(9), match.group(10), match.group(11)) #I tell my function what to return as it loops through my data each line\n"
   ]
  },
  {
   "cell_type": "code",
   "execution_count": 40,
   "metadata": {
    "collapsed": false
   },
   "outputs": [
    {
     "name": "stdout",
     "output_type": "stream",
     "text": [
      "data 20141118 131037 N2 4DayOld 4psi CO2 a 00001 dat 15.028 0.00 1 234.9\n",
      "data 20141118 131037 N2 4DayOld 4psi CO2 a 00001 dat 15.069 1.00 1 234.9\n",
      "data 20141118 131037 N2 4DayOld 4psi CO2 a 00001 dat 15.109 2.00 1 234.9\n",
      "data 20141118 131037 N2 4DayOld 4psi CO2 a 00001 dat 15.148 3.00 1 234.9\n",
      "data 20141118 131037 N2 4DayOld 4psi CO2 a 00001 dat 15.186 4.00 1 234.9\n",
      "data 20141118 131037 N2 4DayOld 4psi CO2 a 00001 dat 15.229 5.00 1 234.9\n",
      "data 20141118 131037 N2 4DayOld 4psi CO2 a 00001 dat 15.270 6.00 1 234.9\n",
      "data 20141118 131037 N2 4DayOld 4psi CO2 a 00001 dat 15.310 7.00 1 234.9\n",
      "data 20141118 131037 N2 4DayOld 4psi CO2 a 00001 dat 15.350 8.00 1 234.9\n",
      "data 20141118 131037 N2 4DayOld 4psi CO2 a 00001 dat 15.387 9.00 1 234.9\n",
      "data 20141118 133214 tim4182 4DayOld 4psi CO2 b 00087 dat 249.616 5832.00 87 24.3\n",
      "data 20141118 133214 tim4182 4DayOld 4psi CO2 b 00087 dat 249.656 5833.00 87 24.3\n",
      "data 20141118 133214 tim4182 4DayOld 4psi CO2 b 00087 dat 249.697 5834.00 87 24.3\n",
      "data 20141118 133214 tim4182 4DayOld 4psi CO2 b 00087 dat 249.737 5835.00 87 24.3\n",
      "data 20141118 133214 tim4182 4DayOld 4psi CO2 b 00087 dat 249.776 5836.00 87 24.3\n",
      "data 20141118 133214 tim4182 4DayOld 4psi CO2 b 00087 dat 249.816 5837.00 87 24.3\n",
      "data 20141118 133214 tim4182 4DayOld 4psi CO2 b 00087 dat 249.857 5838.00 87 24.3\n",
      "data 20141118 133214 tim4182 4DayOld 4psi CO2 b 00087 dat 249.897 5839.00 87 24.3\n",
      "data 20141118 133214 tim4182 4DayOld 4psi CO2 b 00087 dat 249.938 5840.00 87 24.3\n",
      "data 20141118 133214 tim4182 4DayOld 4psi CO2 b 00087 dat 249.977 5841.00 87 24.3\n"
     ]
    }
   ],
   "source": [
    "clean_data(lines)"
   ]
  },
  {
   "cell_type": "markdown",
   "metadata": {},
   "source": [
    "The data (columns) are now separated by spaces."
   ]
  },
  {
   "cell_type": "code",
   "execution_count": null,
   "metadata": {
    "collapsed": true
   },
   "outputs": [],
   "source": []
  },
  {
   "cell_type": "code",
   "execution_count": null,
   "metadata": {
    "collapsed": true
   },
   "outputs": [],
   "source": []
  },
  {
   "cell_type": "code",
   "execution_count": null,
   "metadata": {
    "collapsed": true
   },
   "outputs": [],
   "source": []
  },
  {
   "cell_type": "code",
   "execution_count": null,
   "metadata": {
    "collapsed": true
   },
   "outputs": [],
   "source": []
  },
  {
   "cell_type": "code",
   "execution_count": null,
   "metadata": {
    "collapsed": false
   },
   "outputs": [],
   "source": []
  },
  {
   "cell_type": "code",
   "execution_count": null,
   "metadata": {
    "collapsed": true
   },
   "outputs": [],
   "source": []
  },
  {
   "cell_type": "code",
   "execution_count": null,
   "metadata": {
    "collapsed": false
   },
   "outputs": [],
   "source": []
  },
  {
   "cell_type": "code",
   "execution_count": null,
   "metadata": {
    "collapsed": false
   },
   "outputs": [],
   "source": []
  },
  {
   "cell_type": "code",
   "execution_count": null,
   "metadata": {
    "collapsed": false
   },
   "outputs": [],
   "source": [
    "\n"
   ]
  },
  {
   "cell_type": "code",
   "execution_count": null,
   "metadata": {
    "collapsed": true
   },
   "outputs": [],
   "source": []
  },
  {
   "cell_type": "code",
   "execution_count": null,
   "metadata": {
    "collapsed": true
   },
   "outputs": [],
   "source": []
  },
  {
   "cell_type": "code",
   "execution_count": null,
   "metadata": {
    "collapsed": true
   },
   "outputs": [],
   "source": []
  },
  {
   "cell_type": "code",
   "execution_count": null,
   "metadata": {
    "collapsed": true
   },
   "outputs": [],
   "source": []
  },
  {
   "cell_type": "code",
   "execution_count": null,
   "metadata": {
    "collapsed": true
   },
   "outputs": [],
   "source": []
  },
  {
   "cell_type": "code",
   "execution_count": null,
   "metadata": {
    "collapsed": true
   },
   "outputs": [],
   "source": []
  },
  {
   "cell_type": "code",
   "execution_count": null,
   "metadata": {
    "collapsed": false
   },
   "outputs": [],
   "source": []
  },
  {
   "cell_type": "code",
   "execution_count": null,
   "metadata": {
    "collapsed": true
   },
   "outputs": [],
   "source": []
  }
 ],
 "metadata": {
  "kernelspec": {
   "display_name": "Python 3",
   "language": "python",
   "name": "python3"
  }
 },
 "nbformat": 4,
 "nbformat_minor": 0
}
